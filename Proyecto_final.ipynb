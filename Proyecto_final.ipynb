{
  "cells": [
    {
      "cell_type": "code",
      "execution_count": 1,
      "metadata": {
        "id": "uCpNH13LQyve"
      },
      "outputs": [],
      "source": [
        "import numpy as np\n",
        "import matplotlib.pyplot as plt\n",
        "from sklearn.model_selection import StratifiedGroupKFold\n",
        "from skimage.feature import hog\n",
        "import multiprocess as mp\n",
        "import tensorflow as tf\n",
        "from sklearn.cluster import KMeans\n",
        "\n",
        "X_STRIPES = 10\n",
        "Y_STRIPES = 10"
      ]
    },
    {
      "cell_type": "code",
      "execution_count": 2,
      "metadata": {
        "colab": {
          "base_uri": "https://localhost:8080/"
        },
        "id": "lyFVZNJQRGd1",
        "outputId": "deec38b2-9c80-40ae-d333-d6e8adc88459"
      },
      "outputs": [
        {
          "data": {
            "text/plain": [
              "(300, 300, 3, 201)"
            ]
          },
          "execution_count": 2,
          "metadata": {},
          "output_type": "execute_result"
        }
      ],
      "source": [
        "imgs1 = np.random.randint(low=0,high=60,size=(300,300,3,67))\n",
        "imgs2 = np.random.randint(low=100,high=160,size=(300,300,3,67))\n",
        "imgs3 = np.random.randint(low=200,high=255,size=(300,300,3,67))\n",
        "imgs=np.append(imgs1,imgs2,3)\n",
        "imgs=np.append(imgs,imgs3,3)\n",
        "imgs.shape"
      ]
    },
    {
      "cell_type": "code",
      "execution_count": 3,
      "metadata": {
        "colab": {
          "base_uri": "https://localhost:8080/"
        },
        "id": "si7l-5WbRmcl",
        "outputId": "b1bd3982-6f77-4124-e5b7-a4570164d460"
      },
      "outputs": [
        {
          "data": {
            "text/plain": [
              "(20100, 30, 30, 3)"
            ]
          },
          "execution_count": 3,
          "metadata": {},
          "output_type": "execute_result"
        }
      ],
      "source": [
        "new_data = []\n",
        "for instance in range(imgs.shape[3]):\n",
        "  img = imgs[:,:,:,instance]\n",
        "  rows = np.vsplit(img,X_STRIPES)\n",
        "  for row in rows:\n",
        "    quadrants = np.hsplit(row,Y_STRIPES)\n",
        "    for quadrant in quadrants:\n",
        "      new_data.append(quadrant)\n",
        "new_data = np.array(new_data)\n",
        "new_data.shape"
      ]
    },
    {
      "cell_type": "code",
      "execution_count": 4,
      "metadata": {
        "colab": {
          "base_uri": "https://localhost:8080/"
        },
        "id": "7wNUecfcV3ou",
        "outputId": "3e58091f-0982-44d1-9874-4af4329c9d9a"
      },
      "outputs": [
        {
          "data": {
            "text/plain": [
              "'index_to_label = {0:\"person\",1:\"animal\",2:\"nothing\",3:\"noise\"}\\nlabel_to_index = {\"person\":0,\"animal\":1,\"nothing\":2,\"noise\":3}\\nlabels = np.zeros((new_data.shape[0],))\\nplt.figure()\\nfor instance in range(new_data.shape[0]):\\n  img = new_data[instance,:,:,:]\\n  plt.imshow(img)\\n  plt.show()\\n  labels[instance]= int(input()='"
            ]
          },
          "execution_count": 4,
          "metadata": {},
          "output_type": "execute_result"
        }
      ],
      "source": [
        "'''index_to_label = {0:\"person\",1:\"animal\",2:\"nothing\",3:\"noise\"}\n",
        "label_to_index = {\"person\":0,\"animal\":1,\"nothing\":2,\"noise\":3}\n",
        "labels = np.zeros((new_data.shape[0],))\n",
        "plt.figure()\n",
        "for instance in range(new_data.shape[0]):\n",
        "  img = new_data[instance,:,:,:]\n",
        "  plt.imshow(img)\n",
        "  plt.show()\n",
        "  labels[instance]= int(input()='''"
      ]
    },
    {
      "cell_type": "code",
      "execution_count": 5,
      "metadata": {
        "colab": {
          "base_uri": "https://localhost:8080/"
        },
        "id": "BRXhx-AAKHor",
        "outputId": "592f431b-9a36-448a-d350-25487499f5b9"
      },
      "outputs": [
        {
          "data": {
            "text/plain": [
              "(201,)"
            ]
          },
          "execution_count": 5,
          "metadata": {},
          "output_type": "execute_result"
        }
      ],
      "source": [
        "label_0= [0 for _ in range(imgs1.shape[3])]\n",
        "label_1= [1 for _ in range(imgs2.shape[3])]\n",
        "label_2= [2 for _ in range(imgs3.shape[3])]\n",
        "labels = []\n",
        "labels.extend(label_0)\n",
        "labels.extend(label_1)\n",
        "labels.extend(label_2)\n",
        "labels = np.array(labels)\n",
        "labels.shape"
      ]
    },
    {
      "cell_type": "code",
      "execution_count": 6,
      "metadata": {
        "colab": {
          "base_uri": "https://localhost:8080/"
        },
        "id": "9RRREc8GpyfJ",
        "outputId": "93520f6a-942e-40ff-a606-15ad23100259"
      },
      "outputs": [
        {
          "data": {
            "text/plain": [
              "(201, 108)"
            ]
          },
          "execution_count": 6,
          "metadata": {},
          "output_type": "execute_result"
        }
      ],
      "source": [
        "# features\n",
        "features = []\n",
        "for instance in range(imgs.shape[3]):\n",
        "  features_per_image = []\n",
        "  imgR= new_data[instance,:,:,0]\n",
        "  imgG= new_data[instance,:,:,1]\n",
        "  imgB = new_data[instance,:,:,2]\n",
        "  features_per_image.extend(hog(imgR,orientations=4))\n",
        "  features_per_image.extend(hog(imgG,orientations=4))\n",
        "  features_per_image.extend(hog(imgB,orientations=4))\n",
        "  features.append(features_per_image)\n",
        "\n",
        "features = np.array(features)\n",
        "features.shape"
      ]
    },
    {
      "cell_type": "code",
      "execution_count": 7,
      "metadata": {},
      "outputs": [
        {
          "name": "stdout",
          "output_type": "stream",
          "text": [
            "[ 6 10  1  8 10  2  3  7  3  7  4  0 10  6  4  5  0  6  6  4 10 10 10  2\n",
            "  7  4  0  4  7  6  4  8  3 10  0  8  6 10  2  4  5 10  8  6  2  3  4  6\n",
            "  4  4  1  3  3  7  1  6  8  4  1  0  7  1  2  6  2 10  2  3  7  2  1  2\n",
            "  3  3  6  4  2  7  3  9 10  4  4  3  6  2  5  5  2  2  6  5  8  3  0  8\n",
            "  3  3  1  8  3  8  5  0  0  2  0  2  8  3  4  8  4  4  3  6  8  2  0  8\n",
            " 10  7  0  3  4  5  6  4  2  8  4  6  6  7  0  2  0  6  8  4  3  2  1  4\n",
            "  6  8  8  3  0  0  4  1  0 10  8  4  6  5  0  1  5  2  4  4  8  1  3  0\n",
            "  7  4  8  8  0  7  7  2  5  6  5  7  4  3  3 10  7  6  1  4  8  3  3  9\n",
            " 10 10  7  7  0 10  4  4 10]\n"
          ]
        },
        {
          "data": {
            "image/png": "[encoded data removed]",
            "text/plain": [
              "<Figure size 640x480 with 1 Axes>"
            ]
          },
          "metadata": {},
          "output_type": "display_data"
        }
      ],
      "source": [
        "def train_k_means(X,k_value,kmeans):\n",
        "    model = kmeans(k_value)\n",
        "    model.fit(X)\n",
        "    return model\n",
        "\n",
        "k_values = [i*2+1 for i in range(1,13)]\n",
        "parameters = [(features,k_value,KMeans) for k_value in k_values]\n",
        "with mp.Pool(12) as p:\n",
        "    res = p.starmap(train_k_means,parameters)\n",
        "\n",
        "plt.plot(k_values,[model.inertia_ for model in res])\n",
        "groups = res[4].predict(features)\n",
        "print(groups)"
      ]
    },
    {
      "cell_type": "code",
      "execution_count": 8,
      "metadata": {
        "colab": {
          "base_uri": "https://localhost:8080/"
        },
        "id": "zZEqbShLsy-k",
        "outputId": "fc139492-c4e9-4d59-c931-66505b42e559"
      },
      "outputs": [
        {
          "name": "stdout",
          "output_type": "stream",
          "text": [
            "{'activation_function': 'tanh', 'learning_rate': 0.071875, 'beta': 0.071875, 'num_layers': 1, 'num_neuron_per_layer': 2}\n",
            "18496\n"
          ]
        }
      ],
      "source": [
        "activation_functions = [\"tanh\"]\n",
        "beta_values = np.linspace(start=0.01, stop=1, num=17)\n",
        "learning_rate_values = np.linspace(start=0.01, stop=1, num=17)\n",
        "num_layers = [1, 2, 3,4]\n",
        "num_neuron_per_layer = [i+1 for i in range(16)]\n",
        "hyperparameters = []\n",
        "\n",
        "for function in activation_functions:\n",
        "        for learning_rate in learning_rate_values:\n",
        "            for beta in beta_values:\n",
        "                for layers in num_layers:\n",
        "                    for neurons in num_neuron_per_layer:\n",
        "                        hyperparameters.append({\n",
        "                            \"activation_function\": function,\n",
        "                            \"learning_rate\": learning_rate,\n",
        "                            \"beta\": beta,\n",
        "                            \"num_layers\": layers,\n",
        "                            \"num_neuron_per_layer\": neurons\n",
        "                        })\n",
        "\n",
        "# Verifica los primeros elementos de la lista\n",
        "print(hyperparameters[1153])\n",
        "print(len(hyperparameters))\n"
      ]
    },
    {
      "cell_type": "code",
      "execution_count": 9,
      "metadata": {
        "id": "CB2c0t03kr1e"
      },
      "outputs": [],
      "source": [
        "def train_model(hyperparameters, k_folds_instances, features, labels, epochs=2000, loss_threshold=1e-5):\n",
        "    import tensorflow as tf\n",
        "\n",
        "    num_neurons = hyperparameters[\"num_neuron_per_layer\"]\n",
        "    num_layers = hyperparameters[\"num_layers\"]\n",
        "    activation_function = hyperparameters[\"activation_function\"]\n",
        "    learning_rate = hyperparameters[\"learning_rate\"]\n",
        "    beta = hyperparameters[\"beta\"]\n",
        "    \n",
        "    average_accuracy = 0\n",
        "    for fold_index, (train_index, test_index) in enumerate(k_folds_instances):\n",
        "        X_train, X_test = features[train_index], features[test_index]\n",
        "        Y_train, Y_test = labels[train_index], labels[test_index]\n",
        "        \n",
        "        model = tf.keras.Sequential()\n",
        "        model.add(tf.keras.layers.Dense(num_neurons, activation=activation_function, input_shape=(features.shape[1],)))\n",
        "        \n",
        "        for _ in range(num_layers - 1):\n",
        "            model.add(tf.keras.layers.Dense(num_neurons, activation=activation_function))\n",
        "        \n",
        "        model.add(tf.keras.layers.Dense(3, activation='softmax'))  # Assuming 3 classes\n",
        "        \n",
        "        optimizer = tf.keras.optimizers.Adam(learning_rate=learning_rate,beta_1=beta)\n",
        "        model.compile(optimizer=optimizer, loss='sparse_categorical_crossentropy', metrics=['accuracy'])\n",
        "        \n",
        "        callback = tf.keras.callbacks.EarlyStopping(monitor='loss', patience=110, min_delta=loss_threshold, verbose=1)\n",
        "        history = model.fit(X_train, Y_train, epochs=epochs, verbose=0, callbacks=[callback])\n",
        "        \n",
        "        num_epochs_completed = len(history.history['loss'])  # Obtenemos el número de épocas realmente completadas\n",
        "        final_accuracy = model.evaluate(X_test, Y_test, verbose=0)[1]  # Get test accuracy\n",
        "        average_accuracy += final_accuracy\n",
        "    \n",
        "    return [average_accuracy / len(k_folds_instances),num_epochs_completed]\n"
      ]
    },
    {
      "cell_type": "code",
      "execution_count": 10,
      "metadata": {},
      "outputs": [],
      "source": [
        "gkf = StratifiedGroupKFold(5)\n",
        "folds_instances = []\n",
        "for train_indices, test_indices in gkf.split(features,labels,groups):\n",
        "    folds_instances.append((train_indices,test_indices))"
      ]
    },
    {
      "cell_type": "code",
      "execution_count": 11,
      "metadata": {},
      "outputs": [],
      "source": [
        "def nivelation(D, n_p):\n",
        "    s=len(D)%n_p\n",
        "    t=int((len(D)-s)/n_p)\n",
        "    out=[]\n",
        "    for i in range(n_p):\n",
        "        if i<s:\n",
        "            out.append(D[i*t+i:i*t+i+t+1])\n",
        "        else:\n",
        "            out.append(D[i*t+s:i*t+s+t])\n",
        "    return out\n",
        "\n",
        "def train_models_wrapper(models,k_fold_instances,features,labels,file_path,lock,train_model):\n",
        "    for model in models:\n",
        "        with open(file_path,\"a\") as f:\n",
        "            results =train_model(model,k_fold_instances,features,labels)\n",
        "            lock.acquire()\n",
        "            f.write(f\"{model}\\t{results[0]}\\t{results[1]}\\n\")\n",
        "            lock.release()\n",
        "\n",
        "with mp.Manager() as manager:\n",
        "    lock = manager.Lock()\n",
        "    file_path = \"models.out\"\n",
        "    open(file_path,\"w\")\n",
        "    n_cpu = mp.cpu_count()\n",
        "    data_listed = nivelation(hyperparameters,n_cpu)\n",
        "    parameters =[(data,folds_instances,features,labels,file_path,lock,train_model) for data in data_listed\n",
        "    ]\n",
        "    with mp.Pool(n_cpu) as p:\n",
        "        p.starmap(train_models_wrapper,parameters)"
      ]
    }
  ],
  "metadata": {
    "accelerator": "GPU",
    "colab": {
      "gpuType": "T4",
      "provenance": []
    },
    "kernelspec": {
      "display_name": "Python 3",
      "name": "python3"
    },
    "language_info": {
      "codemirror_mode": {
        "name": "ipython",
        "version": 3
      },
      "file_extension": ".py",
      "mimetype": "text/x-python",
      "name": "python",
      "nbconvert_exporter": "python",
      "pygments_lexer": "ipython3",
      "version": "3.10.11"
    }
  },
  "nbformat": 4,
  "nbformat_minor": 0
}
